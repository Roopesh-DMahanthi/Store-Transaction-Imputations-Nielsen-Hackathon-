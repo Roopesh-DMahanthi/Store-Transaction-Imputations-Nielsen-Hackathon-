{
  "nbformat": 4,
  "nbformat_minor": 0,
  "metadata": {
    "colab": {
      "name": "Hack.ipynb",
      "provenance": [],
      "collapsed_sections": [],
      "authorship_tag": "ABX9TyOr5nSP4i+oR+9Fq7FBSK/S",
      "include_colab_link": true
    },
    "kernelspec": {
      "name": "python3",
      "display_name": "Python 3"
    },
    "accelerator": "GPU"
  },
  "cells": [
    {
      "cell_type": "markdown",
      "metadata": {
        "id": "view-in-github",
        "colab_type": "text"
      },
      "source": [
        "<a href=\"https://colab.research.google.com/github/Roopesh-DMahanthi/Store-Transaction-Imputations-Nielsen-Hackathon-/blob/master/Hack.ipynb\" target=\"_parent\"><img src=\"https://colab.research.google.com/assets/colab-badge.svg\" alt=\"Open In Colab\"/></a>"
      ]
    },
    {
      "cell_type": "markdown",
      "metadata": {
        "id": "m4ZIexJasnCn",
        "colab_type": "text"
      },
      "source": [
        "#**Store Transaction Imputations Hackathon Solution**\n",
        "\n",
        "Installing **Pandasql** library (if not installed)"
      ]
    },
    {
      "cell_type": "code",
      "metadata": {
        "id": "wU96nV7qDwb9",
        "colab_type": "code",
        "colab": {}
      },
      "source": [
        "!pip install pandasql"
      ],
      "execution_count": 0,
      "outputs": []
    },
    {
      "cell_type": "markdown",
      "metadata": {
        "id": "89Ear7V7tFvg",
        "colab_type": "text"
      },
      "source": [
        "Importing necessary dependencies\n",
        "\n",
        "**Numpy, Pandas, Pandasql, Pyplot from Matplotlib**\n"
      ]
    },
    {
      "cell_type": "code",
      "metadata": {
        "id": "b-eRugB8ABYd",
        "colab_type": "code",
        "colab": {}
      },
      "source": [
        "import numpy as np\n",
        "import pandas as pd\n",
        "import pandasql as sql\n",
        "from matplotlib import pyplot as plt"
      ],
      "execution_count": 0,
      "outputs": []
    },
    {
      "cell_type": "markdown",
      "metadata": {
        "id": "xIPno91EtnmA",
        "colab_type": "text"
      },
      "source": [
        "Importing **Hackathon_Working_Data.csv** File using pandas into **Dataframe**"
      ]
    },
    {
      "cell_type": "code",
      "metadata": {
        "id": "scLvwubcAZm2",
        "colab_type": "code",
        "colab": {}
      },
      "source": [
        "df=pd.read_csv(\"Hackathon_Working_Data.csv\")"
      ],
      "execution_count": 0,
      "outputs": []
    },
    {
      "cell_type": "markdown",
      "metadata": {
        "id": "DT2q0HZyt72C",
        "colab_type": "text"
      },
      "source": [
        "Checking the Dataframe imported using **head** function"
      ]
    },
    {
      "cell_type": "code",
      "metadata": {
        "id": "Y5DvWIJqBU51",
        "colab_type": "code",
        "colab": {
          "base_uri": "https://localhost:8080/",
          "height": 255
        },
        "outputId": "8d2d7d23-b382-4e1f-b964-3ef722fd2d70"
      },
      "source": [
        "df.head"
      ],
      "execution_count": 158,
      "outputs": [
        {
          "output_type": "execute_result",
          "data": {
            "text/plain": [
              "<bound method NDFrame.head of       MONTH STORECODE  ...              MBRD                    BRD\n",
              "0        M1        N1  ...              AMUL                   AMUL\n",
              "1        M1        N1  ...            MELODY       MELODY CHOCOLATY\n",
              "2        M1        N1  ...     CADBURY SHOTS          CADBURY SHOTS\n",
              "3        M1        N1  ...        WAGH BAKRI     WAGH BAKRI INSTANT\n",
              "4        M1        N1  ...              TATA              TATA SALT\n",
              "...     ...       ...  ...               ...                    ...\n",
              "26980    M3       N10  ...  PARLE KRACK JACK       PARLE KRACK JACK\n",
              "26981    M3       N10  ...       PARLE MARIE            PARLE MARIE\n",
              "26982    M3       N10  ...           PARLE-G                PARLE-G\n",
              "26983    M3       N10  ...             COLIN                  COLIN\n",
              "26984    M3       N10  ...         BISK FARM  BISK FARM JUST GINGER\n",
              "\n",
              "[26985 rows x 14 columns]>"
            ]
          },
          "metadata": {
            "tags": []
          },
          "execution_count": 158
        }
      ]
    },
    {
      "cell_type": "markdown",
      "metadata": {
        "id": "stauVp6pulKn",
        "colab_type": "text"
      },
      "source": [
        "Checking for **NULL** values in the Dataset"
      ]
    },
    {
      "cell_type": "code",
      "metadata": {
        "id": "-YALKLKzDpgV",
        "colab_type": "code",
        "colab": {
          "base_uri": "https://localhost:8080/",
          "height": 272
        },
        "outputId": "86779700-a32d-454f-fa96-47522bf75ce7"
      },
      "source": [
        "print((df.isnull()==True).sum())"
      ],
      "execution_count": 159,
      "outputs": [
        {
          "output_type": "stream",
          "text": [
            "MONTH        0\n",
            "STORECODE    0\n",
            "DAY          0\n",
            "BILL_ID      0\n",
            "BILL_AMT     0\n",
            "QTY          0\n",
            "VALUE        0\n",
            "PRICE        0\n",
            "GRP          0\n",
            "SGRP         0\n",
            "SSGRP        0\n",
            "CMP          0\n",
            "MBRD         0\n",
            "BRD          0\n",
            "dtype: int64\n"
          ],
          "name": "stdout"
        }
      ]
    },
    {
      "cell_type": "markdown",
      "metadata": {
        "id": "UJ_4U7PKuuwv",
        "colab_type": "text"
      },
      "source": [
        "Since there are **No NULL** values\n",
        "\n",
        "Getting a New Dataframe to Check **BILL_AMT** value of every Unique **BILL_ID** to be equal to **Total Cost of Items Purchased of that respective BILL_ID (Sumation of VALUE)** and **Total cost of Each and Every Individual Item Purchased (Summation of QTY*PRICE of Item)**"
      ]
    },
    {
      "cell_type": "code",
      "metadata": {
        "id": "9QhmlS6KGw5A",
        "colab_type": "code",
        "colab": {
          "base_uri": "https://localhost:8080/",
          "height": 255
        },
        "outputId": "d08333fb-aa4b-4189-e39f-626c6f2ea8b6"
      },
      "source": [
        "sub_data =sql.sqldf(\"SELECT MONTH,STORECODE,DAY,BILL_ID,BILL_AMT,SUM(VALUE) AS 'SUMATION',SUM(QTY*PRICE) AS 'PCHECK' FROM df WHERE BILL_ID IN (SELECT DISTINCT(BILL_ID) FROM df) GROUP BY MONTH,STORECODE,DAY,BILL_ID;\", globals())\n",
        "print(sub_data)"
      ],
      "execution_count": 98,
      "outputs": [
        {
          "output_type": "stream",
          "text": [
            "      MONTH STORECODE  DAY BILL_ID  BILL_AMT  SUMATION  PCHECK\n",
            "0        M1        N1    4    T375     225.0     225.0   225.0\n",
            "1        M1        N1    4    T379      95.0      95.0    95.0\n",
            "2        M1        N1    4    T381      10.0      10.0    10.0\n",
            "3        M1        N1    4    T382     108.0     108.0   108.0\n",
            "4        M1        N1    4    T384      19.0      19.0    19.0\n",
            "...     ...       ...  ...     ...       ...       ...     ...\n",
            "13486    M3        N9   18   T1235     625.0     625.0   625.0\n",
            "13487    M3        N9   19   T1242      63.0      63.0    63.0\n",
            "13488    M3        N9   19   T1243     270.0     270.0   270.0\n",
            "13489    M3        N9   19   T1275    6040.0    6040.0  6040.0\n",
            "13490    M3        N9   20   T1253      30.0      30.0    30.0\n",
            "\n",
            "[13491 rows x 7 columns]\n"
          ],
          "name": "stdout"
        }
      ]
    },
    {
      "cell_type": "markdown",
      "metadata": {
        "id": "OGpkb7hxwXvJ",
        "colab_type": "text"
      },
      "source": [
        "Importing **Hackathon_Validation_Data.csv** Dataset"
      ]
    },
    {
      "cell_type": "code",
      "metadata": {
        "id": "UltIbCnlI9DP",
        "colab_type": "code",
        "colab": {}
      },
      "source": [
        "vdf=pd.read_csv('Hackathon_Validation_Data.csv')"
      ],
      "execution_count": 0,
      "outputs": []
    },
    {
      "cell_type": "markdown",
      "metadata": {
        "id": "ALgjl4hfwk3O",
        "colab_type": "text"
      },
      "source": [
        "Getting the **Shape** of the Dataframe"
      ]
    },
    {
      "cell_type": "code",
      "metadata": {
        "id": "2H9bhzDlb-sZ",
        "colab_type": "code",
        "colab": {
          "base_uri": "https://localhost:8080/",
          "height": 34
        },
        "outputId": "f5448c97-263f-44f6-e8dc-2c26fdea7682"
      },
      "source": [
        "vdf.shape"
      ],
      "execution_count": 151,
      "outputs": [
        {
          "output_type": "execute_result",
          "data": {
            "text/plain": [
              "(2430, 4)"
            ]
          },
          "metadata": {
            "tags": []
          },
          "execution_count": 151
        }
      ]
    },
    {
      "cell_type": "markdown",
      "metadata": {
        "id": "OaJ2MAQ9w-mr",
        "colab_type": "text"
      },
      "source": [
        "Creating a **sol** numpy array to store **final result** with column names as required"
      ]
    },
    {
      "cell_type": "code",
      "metadata": {
        "id": "HV_wxVnAaas5",
        "colab_type": "code",
        "colab": {}
      },
      "source": [
        "sol=np.array(['ID','TOTALVALUE'])"
      ],
      "execution_count": 0,
      "outputs": []
    },
    {
      "cell_type": "markdown",
      "metadata": {
        "id": "4dV6RARCxRMI",
        "colab_type": "text"
      },
      "source": [
        "Running an **SQL Query** to get appropriate **TOTALSUM** for the item and other details mentioned across each **ID** of the Validation Dataset and pushing the result to **sol** numpy array"
      ]
    },
    {
      "cell_type": "code",
      "metadata": {
        "id": "KYtJHm0wen91",
        "colab_type": "code",
        "colab": {}
      },
      "source": [
        "for i in range(vdf.shape[0]):\n",
        "  temp=vdf.loc[i]\n",
        "  qry=\"select sum(VALUE) as 'TVALUE' from df where STORECODE='\"+temp['STORECODE']+\"' and MONTH='\"+temp['MONTH']+\"' and GRP='\"+temp['GRP']+\"' ;\"\n",
        "  fin=sql.sqldf(qry,globals())\n",
        "  if(fin['TVALUE'][0]==None):\n",
        "    sol=np.vstack([sol,[temp['ID'],0]])\n",
        "    #print([temp['ID'],0])\n",
        "  else:\n",
        "    sol=np.vstack([sol,[temp['ID'],fin['TVALUE'][0]]])\n",
        "    #print([temp['ID'],fin['TVALUE'][0]])\n",
        "  #print(i,end=' ')"
      ],
      "execution_count": 0,
      "outputs": []
    },
    {
      "cell_type": "markdown",
      "metadata": {
        "id": "S-3kMpEOxypp",
        "colab_type": "text"
      },
      "source": [
        "**Printing sol numpy array**"
      ]
    },
    {
      "cell_type": "code",
      "metadata": {
        "id": "QKv7xDV4k6g6",
        "colab_type": "code",
        "colab": {
          "base_uri": "https://localhost:8080/",
          "height": 136
        },
        "outputId": "b39b5534-975c-4bf1-cc50-4395b02e0512"
      },
      "source": [
        "sol"
      ],
      "execution_count": 153,
      "outputs": [
        {
          "output_type": "execute_result",
          "data": {
            "text/plain": [
              "array([['ID', 'TOTALVALUE'],\n",
              "       ['1112535', '0'],\n",
              "       ['1112539.0', '70.0'],\n",
              "       ...,\n",
              "       ['1122243', '0'],\n",
              "       ['1122247.0', '971.0'],\n",
              "       ['1122251.0', '1255.0']], dtype='<U32')"
            ]
          },
          "metadata": {
            "tags": []
          },
          "execution_count": 153
        }
      ]
    },
    {
      "cell_type": "markdown",
      "metadata": {
        "id": "_gn3RcRBx4y5",
        "colab_type": "text"
      },
      "source": [
        "**Converting sol numpy array to Pandas Dataframe**"
      ]
    },
    {
      "cell_type": "code",
      "metadata": {
        "id": "jZ1XnFJqrb_R",
        "colab_type": "code",
        "colab": {}
      },
      "source": [
        "frame=pd.DataFrame(data=sol[1:,:],columns=sol[0,:])"
      ],
      "execution_count": 0,
      "outputs": []
    },
    {
      "cell_type": "markdown",
      "metadata": {
        "id": "5ROV9FJayDAP",
        "colab_type": "text"
      },
      "source": [
        "Checking the **Converted Dataframe**"
      ]
    },
    {
      "cell_type": "code",
      "metadata": {
        "id": "cQ0PU1o4ryCP",
        "colab_type": "code",
        "colab": {
          "base_uri": "https://localhost:8080/",
          "height": 204
        },
        "outputId": "b3f0a32f-b938-4aa8-f211-d6600deebbd2"
      },
      "source": [
        "frame.head()"
      ],
      "execution_count": 161,
      "outputs": [
        {
          "output_type": "execute_result",
          "data": {
            "text/html": [
              "<div>\n",
              "<style scoped>\n",
              "    .dataframe tbody tr th:only-of-type {\n",
              "        vertical-align: middle;\n",
              "    }\n",
              "\n",
              "    .dataframe tbody tr th {\n",
              "        vertical-align: top;\n",
              "    }\n",
              "\n",
              "    .dataframe thead th {\n",
              "        text-align: right;\n",
              "    }\n",
              "</style>\n",
              "<table border=\"1\" class=\"dataframe\">\n",
              "  <thead>\n",
              "    <tr style=\"text-align: right;\">\n",
              "      <th></th>\n",
              "      <th>ID</th>\n",
              "      <th>TOTALVALUE</th>\n",
              "    </tr>\n",
              "  </thead>\n",
              "  <tbody>\n",
              "    <tr>\n",
              "      <th>0</th>\n",
              "      <td>1112535</td>\n",
              "      <td>0</td>\n",
              "    </tr>\n",
              "    <tr>\n",
              "      <th>1</th>\n",
              "      <td>1112539.0</td>\n",
              "      <td>70.0</td>\n",
              "    </tr>\n",
              "    <tr>\n",
              "      <th>2</th>\n",
              "      <td>1112543.0</td>\n",
              "      <td>164.0</td>\n",
              "    </tr>\n",
              "    <tr>\n",
              "      <th>3</th>\n",
              "      <td>1112547.0</td>\n",
              "      <td>545.0</td>\n",
              "    </tr>\n",
              "    <tr>\n",
              "      <th>4</th>\n",
              "      <td>1112551.0</td>\n",
              "      <td>70.8</td>\n",
              "    </tr>\n",
              "  </tbody>\n",
              "</table>\n",
              "</div>"
            ],
            "text/plain": [
              "          ID TOTALVALUE\n",
              "0    1112535          0\n",
              "1  1112539.0       70.0\n",
              "2  1112543.0      164.0\n",
              "3  1112547.0      545.0\n",
              "4  1112551.0       70.8"
            ]
          },
          "metadata": {
            "tags": []
          },
          "execution_count": 161
        }
      ]
    },
    {
      "cell_type": "markdown",
      "metadata": {
        "id": "80-hdBzIyQox",
        "colab_type": "text"
      },
      "source": [
        "***Exporting Dataframe into a CSV File***"
      ]
    },
    {
      "cell_type": "code",
      "metadata": {
        "id": "YgEM5SqZr3DI",
        "colab_type": "code",
        "colab": {}
      },
      "source": [
        "frame.to_csv('ans.csv',index=False)"
      ],
      "execution_count": 0,
      "outputs": []
    }
  ]
}